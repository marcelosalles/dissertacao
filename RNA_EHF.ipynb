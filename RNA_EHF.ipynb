{
  "nbformat": 4,
  "nbformat_minor": 0,
  "metadata": {
    "colab": {
      "name": "RNA_EHF.ipynb",
      "version": "0.3.2",
      "provenance": [],
      "collapsed_sections": [
        "GVAmioM8h2W9"
      ],
      "toc_visible": true
    },
    "kernelspec": {
      "name": "python3",
      "display_name": "Python 3"
    }
  },
  "cells": [
    {
      "cell_type": "markdown",
      "metadata": {
        "id": "eJcEWIjtK6pM",
        "colab_type": "text"
      },
      "source": [
        "# Rede Neural Artificial - Edificações de Escritórios\n",
        "\n",
        "Código para desenvolvimento de uma RNA para predição de fração de horas em conforto em Edificações de Escritório com ventilação natural."
      ]
    },
    {
      "cell_type": "markdown",
      "metadata": {
        "id": "hG_SxQ83LR_H",
        "colab_type": "text"
      },
      "source": [
        "## 1. Importação das bibiliotecas"
      ]
    },
    {
      "cell_type": "code",
      "metadata": {
        "id": "KM_7HUToKylL",
        "colab_type": "code",
        "cellView": "both",
        "colab": {}
      },
      "source": [
        "from __future__ import print_function\n",
        "\n",
        "from google.colab import files\n",
        "\n",
        "import math\n",
        "\n",
        "from IPython import display\n",
        "from matplotlib import cm\n",
        "from matplotlib import gridspec\n",
        "from matplotlib import pyplot as plt\n",
        "import numpy as np\n",
        "import pandas as pd\n",
        "from sklearn import metrics\n",
        "import tensorflow as tf\n",
        "from tensorflow.python.data import Dataset\n",
        "\n",
        "tf.logging.set_verbosity(tf.logging.ERROR)\n",
        "pd.options.display.max_rows = 18\n",
        "pd.options.display.float_format = '{:.2f}'.format\n",
        "\n",
        "from datetime import datetime\n"
      ],
      "execution_count": 0,
      "outputs": []
    },
    {
      "cell_type": "markdown",
      "metadata": {
        "id": "6BbkyoG1MDgW",
        "colab_type": "text"
      },
      "source": [
        "## 2. Importação dos dados"
      ]
    },
    {
      "cell_type": "code",
      "metadata": {
        "id": "52l3I_81LHwC",
        "colab_type": "code",
        "outputId": "4c1d4494-86a8-43fd-a437-a49970e459cf",
        "colab": {
          "resources": {
            "http://localhost:8080/nbextensions/google.colab/files.js": {
              "data": "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",
              "ok": true,
              "headers": [
                [
                  "content-type",
                  "application/javascript"
                ]
              ],
              "status": 200,
              "status_text": "OK"
            }
          },
          "base_uri": "https://localhost:8080/",
          "height": 94
        }
      },
      "source": [
        "uploaded = files.upload()\n",
        "\n",
        "for fn in uploaded.keys():\n",
        "  print('User uploaded file \"{name}\" with length {length} bytes'.format(\n",
        "      name=fn, length=len(uploaded[fn])))"
      ],
      "execution_count": 0,
      "outputs": [
        {
          "output_type": "display_data",
          "data": {
            "text/html": [
              "\n",
              "     <input type=\"file\" id=\"files-ab21222f-d671-4783-ac59-59e560c74f07\" name=\"files[]\" multiple disabled />\n",
              "     <output id=\"result-ab21222f-d671-4783-ac59-59e560c74f07\">\n",
              "      Upload widget is only available when the cell has been executed in the\n",
              "      current browser session. Please rerun this cell to enable.\n",
              "      </output>\n",
              "      <script src=\"/nbextensions/google.colab/files.js\"></script> "
            ],
            "text/plain": [
              "<IPython.core.display.HTML object>"
            ]
          },
          "metadata": {
            "tags": []
          }
        },
        {
          "output_type": "stream",
          "text": [
            "Saving dataset_test_08-14b.csv to dataset_test_08-14b.csv\n",
            "User uploaded file \"dataset_test_08-14b.csv\" with length 8770885 bytes\n"
          ],
          "name": "stdout"
        }
      ]
    },
    {
      "cell_type": "code",
      "metadata": {
        "id": "d4XtezVCMVTB",
        "colab_type": "code",
        "colab": {}
      },
      "source": [
        "# dataset = pd.read_csv('dataset_08-06.csv')\n",
        "dataset = pd.read_csv('dataset_08-14.csv')\n",
        "# dataset = pd.read_csv('dataset_sobol.csv')\n",
        "dataset = dataset.reindex(\n",
        "    np.random.permutation(dataset.index))\n",
        "\n",
        "# dataset_validation = pd.read_csv('dataset_12-27.csv')\n",
        "# dataset_validation = pd.read_csv('dataset_validation.csv')\n",
        "# dataset_validation = pd.read_csv('dataset_validation_01_17.csv')\n",
        "# dataset_validation = pd.read_csv('dataset_04-24.csv')\n",
        "# dataset_validation = pd.read_csv('dataset_test_08-10.csv')\n",
        "# dataset_validation = pd.read_csv('dataset_validation_08-06.csv')\n",
        "dataset_validation = pd.read_csv('dataset_validation08-14.csv')\n",
        "dataset_validation = dataset_validation.reindex(\n",
        "    np.random.permutation(dataset_validation.index))\n"
      ],
      "execution_count": 0,
      "outputs": []
    },
    {
      "cell_type": "code",
      "metadata": {
        "id": "RfJqF8R9KSUQ",
        "colab_type": "code",
        "colab": {}
      },
      "source": [
        "\n",
        "dataset_test = pd.read_csv('dataset_test_08-14b.csv')\n",
        "dataset_test = dataset_test.reindex(\n",
        "    np.random.permutation(dataset_test.index))"
      ],
      "execution_count": 0,
      "outputs": []
    },
    {
      "cell_type": "code",
      "metadata": {
        "id": "gmIJxHUNPlzY",
        "colab_type": "code",
        "colab": {}
      },
      "source": [
        "def preprocess_features(dataset, features, lhs_to_sobol=False):\n",
        "  \"\"\"Prepares input features from dataset.\n",
        "\n",
        "  Args:\n",
        "    dataset: A Pandas DataFrame with the dataset.\n",
        "    features: A list of strings with the features names.\n",
        "  Returns:\n",
        "    A DataFrame that contains the features to be used for the model.\n",
        "  \"\"\"\n",
        "  selected_features = dataset[features]\n",
        "  processed_features = selected_features.copy()\n",
        "  \n",
        "  if lhs_to_sobol:\n",
        "    processed_features = processed_features*2-1\n",
        "  \n",
        "  return processed_features\n",
        "\n",
        "def preprocess_targets(dataset, target):\n",
        "  \"\"\"Prepares target features (i.e., labels) from data set.\n",
        "\n",
        "  Args:\n",
        "    dataset: A Pandas DataFrame with the dataset.\n",
        "    targets: A string with the target name.\n",
        "  Returns:\n",
        "    A DataFrame that contains the target feature.\n",
        "  \"\"\"\n",
        "  output_targets = pd.DataFrame()\n",
        "  if target == 'cooling':\n",
        "    output_targets[target] = dataset[target]/1000 # Wh to kWh\n",
        "  else:\n",
        "    output_targets[target] = dataset[target]\n",
        "  \n",
        "  return output_targets"
      ],
      "execution_count": 0,
      "outputs": []
    },
    {
      "cell_type": "code",
      "metadata": {
        "id": "gm-NYTpmR3R4",
        "colab_type": "code",
        "outputId": "b496b8a8-d515-41bc-f506-64c1b02e6aac",
        "colab": {
          "base_uri": "https://localhost:8080/",
          "height": 168
        }
      },
      "source": [
        "print(list(dataset))"
      ],
      "execution_count": 0,
      "outputs": [
        {
          "output_type": "error",
          "ename": "NameError",
          "evalue": "ignored",
          "traceback": [
            "\u001b[0;31m---------------------------------------------------------------------------\u001b[0m",
            "\u001b[0;31mNameError\u001b[0m                                 Traceback (most recent call last)",
            "\u001b[0;32m<ipython-input-9-15273b5f7a8c>\u001b[0m in \u001b[0;36m<module>\u001b[0;34m()\u001b[0m\n\u001b[0;32m----> 1\u001b[0;31m \u001b[0mprint\u001b[0m\u001b[0;34m(\u001b[0m\u001b[0mlist\u001b[0m\u001b[0;34m(\u001b[0m\u001b[0mdataset\u001b[0m\u001b[0;34m)\u001b[0m\u001b[0;34m)\u001b[0m\u001b[0;34m\u001b[0m\u001b[0;34m\u001b[0m\u001b[0m\n\u001b[0m",
            "\u001b[0;31mNameError\u001b[0m: name 'dataset' is not defined"
          ]
        }
      ]
    },
    {
      "cell_type": "code",
      "metadata": {
        "id": "sY2pyLW6MkaD",
        "colab_type": "code",
        "colab": {}
      },
      "source": [
        "# 'open_fac', 'v_ar', 'room_type', 'area', 'people', 'floor_height', 'roof', \n",
        "# 'shading', 'ground', 'wall_u', 'absorptance', 'glass', 'azimuth', 'wwr'\n",
        "\n",
        "# Define the feature names and the target\n",
        "features = ['area', 'azimuth', 'floor_height', 'absorptance', 'wall_u', 'wwr', \n",
        "            'shading', 'people', 'open_fac', 'roof', 'ground', 'v_ar',\n",
        "            'glass', 'room_type']\n",
        "\n",
        "target = 'ehf'\n",
        "\n",
        "# dataset_features = preprocess_features(dataset,features,\n",
        "#                                        lhs_to_sobol=True)  # False)  # \n",
        "# dataset_targets = preprocess_targets(dataset,target)\n",
        "\n",
        "# dataset_validation_features = preprocess_features(dataset_validation,features, \n",
        "#                                                   lhs_to_sobol=True)\n",
        "# dataset_validation_targets = preprocess_targets(dataset_validation,target)\n",
        "\n",
        "dataset_test_features = preprocess_features(dataset_test,features, \n",
        "                                                  lhs_to_sobol=True)  # False)  # \n",
        "dataset_test_targets = preprocess_targets(dataset_test,target)\n",
        "\n",
        "\n",
        "# # Double-check that we've done the right thing.\n",
        "# print(\"Features summary:\")\n",
        "# display.display(dataset_features.describe())\n",
        "# print(\"Target summary:\")\n",
        "# display.display(dataset_targets.describe())"
      ],
      "execution_count": 0,
      "outputs": []
    },
    {
      "cell_type": "code",
      "metadata": {
        "id": "vSUbLOtyfZW3",
        "colab_type": "code",
        "colab": {}
      },
      "source": [
        "# dataset_features['wall_N'] = dataset_features['azimuth'].apply(lambda x: 1 if x < -.75 or x > .75 else 0)\n",
        "# dataset_features['wall_E'] = dataset_features['azimuth'].apply(lambda x: 1 if x < -.25 and x > -.75 else 0)\n",
        "# dataset_features['wall_S'] = dataset_features['azimuth'].apply(lambda x: 1 if x < .25 and x > -.25 else 0)\n",
        "# dataset_features['wall_W'] = dataset_features['azimuth'].apply(lambda x: 1 if x < .75 and x > .25 else 0)\n",
        "\n",
        "# dataset_features.loc[dataset_features['room_type'] == '1_wall', 'wall_N'] = dataset_features['wall_W'] + dataset_features['wall_N']\n",
        "\n",
        "# dataset_features['wall_0'] = dataset_features['azimuth'].apply(lambda x: 1 if x < -.75 or x > .75 else 0)\n",
        "\n",
        "# print(dataset_features.head())"
      ],
      "execution_count": 0,
      "outputs": []
    },
    {
      "cell_type": "markdown",
      "metadata": {
        "id": "Y3i9ev2CTVGj",
        "colab_type": "text"
      },
      "source": [
        "## 3. Análise de correlação"
      ]
    },
    {
      "cell_type": "code",
      "metadata": {
        "id": "hxZYAaLSTMUA",
        "colab_type": "code",
        "outputId": "29e8b6b5-b1be-40f1-cfe4-e2c6afacf666",
        "colab": {
          "base_uri": "https://localhost:8080/",
          "height": 520
        }
      },
      "source": [
        "correlation_dataframe = dataset_features.copy()\n",
        "correlation_dataframe[\"target\"] = dataset_targets[target]\n",
        "\n",
        "correlation_dataframe.corr()"
      ],
      "execution_count": 0,
      "outputs": [
        {
          "output_type": "execute_result",
          "data": {
            "text/html": [
              "<div>\n",
              "<style scoped>\n",
              "    .dataframe tbody tr th:only-of-type {\n",
              "        vertical-align: middle;\n",
              "    }\n",
              "\n",
              "    .dataframe tbody tr th {\n",
              "        vertical-align: top;\n",
              "    }\n",
              "\n",
              "    .dataframe thead th {\n",
              "        text-align: right;\n",
              "    }\n",
              "</style>\n",
              "<table border=\"1\" class=\"dataframe\">\n",
              "  <thead>\n",
              "    <tr style=\"text-align: right;\">\n",
              "      <th></th>\n",
              "      <th>area</th>\n",
              "      <th>azimuth</th>\n",
              "      <th>floor_height</th>\n",
              "      <th>absorptance</th>\n",
              "      <th>wall_u</th>\n",
              "      <th>wwr</th>\n",
              "      <th>shading</th>\n",
              "      <th>people</th>\n",
              "      <th>open_fac</th>\n",
              "      <th>roof</th>\n",
              "      <th>ground</th>\n",
              "      <th>v_ar</th>\n",
              "      <th>glass</th>\n",
              "      <th>room_type</th>\n",
              "      <th>target</th>\n",
              "    </tr>\n",
              "  </thead>\n",
              "  <tbody>\n",
              "    <tr>\n",
              "      <th>area</th>\n",
              "      <td>1.00</td>\n",
              "      <td>0.00</td>\n",
              "      <td>0.00</td>\n",
              "      <td>-0.00</td>\n",
              "      <td>0.00</td>\n",
              "      <td>-0.00</td>\n",
              "      <td>-0.00</td>\n",
              "      <td>0.00</td>\n",
              "      <td>-0.00</td>\n",
              "      <td>-0.00</td>\n",
              "      <td>-0.00</td>\n",
              "      <td>-0.00</td>\n",
              "      <td>0.00</td>\n",
              "      <td>-0.00</td>\n",
              "      <td>0.27</td>\n",
              "    </tr>\n",
              "    <tr>\n",
              "      <th>azimuth</th>\n",
              "      <td>0.00</td>\n",
              "      <td>1.00</td>\n",
              "      <td>0.00</td>\n",
              "      <td>0.00</td>\n",
              "      <td>-0.00</td>\n",
              "      <td>-0.00</td>\n",
              "      <td>0.00</td>\n",
              "      <td>0.01</td>\n",
              "      <td>0.00</td>\n",
              "      <td>0.00</td>\n",
              "      <td>-0.00</td>\n",
              "      <td>0.00</td>\n",
              "      <td>-0.00</td>\n",
              "      <td>0.00</td>\n",
              "      <td>-0.02</td>\n",
              "    </tr>\n",
              "    <tr>\n",
              "      <th>floor_height</th>\n",
              "      <td>0.00</td>\n",
              "      <td>0.00</td>\n",
              "      <td>1.00</td>\n",
              "      <td>-0.01</td>\n",
              "      <td>0.00</td>\n",
              "      <td>-0.00</td>\n",
              "      <td>-0.00</td>\n",
              "      <td>0.00</td>\n",
              "      <td>-0.01</td>\n",
              "      <td>-0.00</td>\n",
              "      <td>0.00</td>\n",
              "      <td>-0.00</td>\n",
              "      <td>0.00</td>\n",
              "      <td>0.01</td>\n",
              "      <td>-0.21</td>\n",
              "    </tr>\n",
              "    <tr>\n",
              "      <th>absorptance</th>\n",
              "      <td>-0.00</td>\n",
              "      <td>0.00</td>\n",
              "      <td>-0.01</td>\n",
              "      <td>1.00</td>\n",
              "      <td>0.00</td>\n",
              "      <td>0.00</td>\n",
              "      <td>0.00</td>\n",
              "      <td>-0.00</td>\n",
              "      <td>0.00</td>\n",
              "      <td>-0.00</td>\n",
              "      <td>0.01</td>\n",
              "      <td>-0.01</td>\n",
              "      <td>-0.00</td>\n",
              "      <td>0.00</td>\n",
              "      <td>0.15</td>\n",
              "    </tr>\n",
              "    <tr>\n",
              "      <th>wall_u</th>\n",
              "      <td>0.00</td>\n",
              "      <td>-0.00</td>\n",
              "      <td>0.00</td>\n",
              "      <td>0.00</td>\n",
              "      <td>1.00</td>\n",
              "      <td>0.00</td>\n",
              "      <td>-0.00</td>\n",
              "      <td>0.01</td>\n",
              "      <td>-0.00</td>\n",
              "      <td>-0.01</td>\n",
              "      <td>-0.00</td>\n",
              "      <td>-0.00</td>\n",
              "      <td>-0.00</td>\n",
              "      <td>-0.00</td>\n",
              "      <td>-0.15</td>\n",
              "    </tr>\n",
              "    <tr>\n",
              "      <th>wwr</th>\n",
              "      <td>-0.00</td>\n",
              "      <td>-0.00</td>\n",
              "      <td>-0.00</td>\n",
              "      <td>0.00</td>\n",
              "      <td>0.00</td>\n",
              "      <td>1.00</td>\n",
              "      <td>0.00</td>\n",
              "      <td>-0.00</td>\n",
              "      <td>-0.00</td>\n",
              "      <td>-0.00</td>\n",
              "      <td>0.00</td>\n",
              "      <td>-0.01</td>\n",
              "      <td>-0.00</td>\n",
              "      <td>-0.00</td>\n",
              "      <td>-0.15</td>\n",
              "    </tr>\n",
              "    <tr>\n",
              "      <th>shading</th>\n",
              "      <td>-0.00</td>\n",
              "      <td>0.00</td>\n",
              "      <td>-0.00</td>\n",
              "      <td>0.00</td>\n",
              "      <td>-0.00</td>\n",
              "      <td>0.00</td>\n",
              "      <td>1.00</td>\n",
              "      <td>-0.01</td>\n",
              "      <td>0.01</td>\n",
              "      <td>0.00</td>\n",
              "      <td>0.00</td>\n",
              "      <td>0.00</td>\n",
              "      <td>0.00</td>\n",
              "      <td>0.00</td>\n",
              "      <td>-0.16</td>\n",
              "    </tr>\n",
              "    <tr>\n",
              "      <th>people</th>\n",
              "      <td>0.00</td>\n",
              "      <td>0.01</td>\n",
              "      <td>0.00</td>\n",
              "      <td>-0.00</td>\n",
              "      <td>0.01</td>\n",
              "      <td>-0.00</td>\n",
              "      <td>-0.01</td>\n",
              "      <td>1.00</td>\n",
              "      <td>0.00</td>\n",
              "      <td>0.00</td>\n",
              "      <td>0.00</td>\n",
              "      <td>-0.00</td>\n",
              "      <td>0.00</td>\n",
              "      <td>-0.00</td>\n",
              "      <td>0.23</td>\n",
              "    </tr>\n",
              "    <tr>\n",
              "      <th>open_fac</th>\n",
              "      <td>-0.00</td>\n",
              "      <td>0.00</td>\n",
              "      <td>-0.01</td>\n",
              "      <td>0.00</td>\n",
              "      <td>-0.00</td>\n",
              "      <td>-0.00</td>\n",
              "      <td>0.01</td>\n",
              "      <td>0.00</td>\n",
              "      <td>1.00</td>\n",
              "      <td>-0.00</td>\n",
              "      <td>-0.00</td>\n",
              "      <td>-0.00</td>\n",
              "      <td>0.00</td>\n",
              "      <td>0.00</td>\n",
              "      <td>-0.53</td>\n",
              "    </tr>\n",
              "    <tr>\n",
              "      <th>roof</th>\n",
              "      <td>-0.00</td>\n",
              "      <td>0.00</td>\n",
              "      <td>-0.00</td>\n",
              "      <td>-0.00</td>\n",
              "      <td>-0.01</td>\n",
              "      <td>-0.00</td>\n",
              "      <td>0.00</td>\n",
              "      <td>0.00</td>\n",
              "      <td>-0.00</td>\n",
              "      <td>1.00</td>\n",
              "      <td>0.00</td>\n",
              "      <td>-0.00</td>\n",
              "      <td>-0.00</td>\n",
              "      <td>0.00</td>\n",
              "      <td>0.03</td>\n",
              "    </tr>\n",
              "    <tr>\n",
              "      <th>ground</th>\n",
              "      <td>-0.00</td>\n",
              "      <td>-0.00</td>\n",
              "      <td>0.00</td>\n",
              "      <td>0.01</td>\n",
              "      <td>-0.00</td>\n",
              "      <td>0.00</td>\n",
              "      <td>0.00</td>\n",
              "      <td>0.00</td>\n",
              "      <td>-0.00</td>\n",
              "      <td>0.00</td>\n",
              "      <td>1.00</td>\n",
              "      <td>0.00</td>\n",
              "      <td>-0.00</td>\n",
              "      <td>0.01</td>\n",
              "      <td>-0.10</td>\n",
              "    </tr>\n",
              "    <tr>\n",
              "      <th>v_ar</th>\n",
              "      <td>-0.00</td>\n",
              "      <td>0.00</td>\n",
              "      <td>-0.00</td>\n",
              "      <td>-0.01</td>\n",
              "      <td>-0.00</td>\n",
              "      <td>-0.01</td>\n",
              "      <td>0.00</td>\n",
              "      <td>-0.00</td>\n",
              "      <td>-0.00</td>\n",
              "      <td>-0.00</td>\n",
              "      <td>0.00</td>\n",
              "      <td>1.00</td>\n",
              "      <td>-0.00</td>\n",
              "      <td>0.00</td>\n",
              "      <td>-0.40</td>\n",
              "    </tr>\n",
              "    <tr>\n",
              "      <th>glass</th>\n",
              "      <td>0.00</td>\n",
              "      <td>-0.00</td>\n",
              "      <td>0.00</td>\n",
              "      <td>-0.00</td>\n",
              "      <td>-0.00</td>\n",
              "      <td>-0.00</td>\n",
              "      <td>0.00</td>\n",
              "      <td>0.00</td>\n",
              "      <td>0.00</td>\n",
              "      <td>-0.00</td>\n",
              "      <td>-0.00</td>\n",
              "      <td>-0.00</td>\n",
              "      <td>1.00</td>\n",
              "      <td>-0.00</td>\n",
              "      <td>0.14</td>\n",
              "    </tr>\n",
              "    <tr>\n",
              "      <th>room_type</th>\n",
              "      <td>-0.00</td>\n",
              "      <td>0.00</td>\n",
              "      <td>0.01</td>\n",
              "      <td>0.00</td>\n",
              "      <td>-0.00</td>\n",
              "      <td>-0.00</td>\n",
              "      <td>0.00</td>\n",
              "      <td>-0.00</td>\n",
              "      <td>0.00</td>\n",
              "      <td>0.00</td>\n",
              "      <td>0.01</td>\n",
              "      <td>0.00</td>\n",
              "      <td>-0.00</td>\n",
              "      <td>1.00</td>\n",
              "      <td>0.22</td>\n",
              "    </tr>\n",
              "    <tr>\n",
              "      <th>target</th>\n",
              "      <td>0.27</td>\n",
              "      <td>-0.02</td>\n",
              "      <td>-0.21</td>\n",
              "      <td>0.15</td>\n",
              "      <td>-0.15</td>\n",
              "      <td>-0.15</td>\n",
              "      <td>-0.16</td>\n",
              "      <td>0.23</td>\n",
              "      <td>-0.53</td>\n",
              "      <td>0.03</td>\n",
              "      <td>-0.10</td>\n",
              "      <td>-0.40</td>\n",
              "      <td>0.14</td>\n",
              "      <td>0.22</td>\n",
              "      <td>1.00</td>\n",
              "    </tr>\n",
              "  </tbody>\n",
              "</table>\n",
              "</div>"
            ],
            "text/plain": [
              "              area  azimuth  floor_height  ...  glass  room_type  target\n",
              "area          1.00     0.00          0.00  ...   0.00      -0.00    0.27\n",
              "azimuth       0.00     1.00          0.00  ...  -0.00       0.00   -0.02\n",
              "floor_height  0.00     0.00          1.00  ...   0.00       0.01   -0.21\n",
              "absorptance  -0.00     0.00         -0.01  ...  -0.00       0.00    0.15\n",
              "wall_u        0.00    -0.00          0.00  ...  -0.00      -0.00   -0.15\n",
              "wwr          -0.00    -0.00         -0.00  ...  -0.00      -0.00   -0.15\n",
              "shading      -0.00     0.00         -0.00  ...   0.00       0.00   -0.16\n",
              "people        0.00     0.01          0.00  ...   0.00      -0.00    0.23\n",
              "open_fac     -0.00     0.00         -0.01  ...   0.00       0.00   -0.53\n",
              "roof         -0.00     0.00         -0.00  ...  -0.00       0.00    0.03\n",
              "ground       -0.00    -0.00          0.00  ...  -0.00       0.01   -0.10\n",
              "v_ar         -0.00     0.00         -0.00  ...  -0.00       0.00   -0.40\n",
              "glass         0.00    -0.00          0.00  ...   1.00      -0.00    0.14\n",
              "room_type    -0.00     0.00          0.01  ...  -0.00       1.00    0.22\n",
              "target        0.27    -0.02         -0.21  ...   0.14       0.22    1.00\n",
              "\n",
              "[15 rows x 15 columns]"
            ]
          },
          "metadata": {
            "tags": []
          },
          "execution_count": 133
        }
      ]
    },
    {
      "cell_type": "markdown",
      "metadata": {
        "id": "4E6ESpl0bv-8",
        "colab_type": "text"
      },
      "source": [
        "## 4. Normalização dos dados"
      ]
    },
    {
      "cell_type": "code",
      "metadata": {
        "id": "nyBlqjlLcVjm",
        "colab_type": "code",
        "outputId": "451abb21-0d13-4ca3-c1ad-bf6e049a09d3",
        "colab": {
          "base_uri": "https://localhost:8080/",
          "height": 716
        }
      },
      "source": [
        "# Check features' histograms.\n",
        "\n",
        "_ = dataset_features.hist(bins=20, figsize=(18, 12), xlabelsize=10)"
      ],
      "execution_count": 0,
      "outputs": [
        {
          "output_type": "display_data",
          "data": {
            "image/png": "[encoded data removed]",
            "text/plain": [
              "<Figure size 1296x864 with 16 Axes>"
            ]
          },
          "metadata": {
            "tags": []
          }
        }
      ]
    },
    {
      "cell_type": "code",
      "metadata": {
        "id": "OK-BZtrZcX2K",
        "colab_type": "code",
        "outputId": "8c18da6b-a0b9-440b-c98f-2747e98a0f83",
        "colab": {
          "base_uri": "https://localhost:8080/",
          "height": 716
        }
      },
      "source": [
        "# Check targets' histogram.\n",
        "\n",
        "_ = dataset_targets.hist(bins=20, figsize=(18, 12), xlabelsize=10)"
      ],
      "execution_count": 0,
      "outputs": [
        {
          "output_type": "display_data",
          "data": {
            "image/png": "[encoded data removed]",
            "text/plain": [
              "<Figure size 1296x864 with 1 Axes>"
            ]
          },
          "metadata": {
            "tags": []
          }
        }
      ]
    },
    {
      "cell_type": "code",
      "metadata": {
        "id": "7JjTWr-Pb0c9",
        "colab_type": "code",
        "colab": {}
      },
      "source": [
        "# Functions to normalize the data.\n",
        "def linear_scale(series):\n",
        "  min_val = series.min()\n",
        "  max_val = series.max()\n",
        "  scale = (max_val - min_val) / 2.0\n",
        "  return series.apply(lambda x:((x - min_val) / scale) - 1.0)\n",
        "\n",
        "def log_normalize(series, base = 10):\n",
        "  return series.apply(lambda x:math.log(x+1.0, base))\n",
        "\n",
        "def inv_log_normalize(series, base = 10):\n",
        "  return series.apply(lambda x:math.log(1/(x+1.0), base))\n",
        "\n",
        "def pow_normalize(series, base=1/2):\n",
        "  return series.apply(lambda x:math.pow(x, base))\n",
        "\n",
        "def sigmoid_normalize(series):\n",
        "  return series.apply(lambda x:1/(1+math.exp(-x)))\n",
        "\n",
        "def tan_normalize(series):\n",
        "  return series.apply(lambda x:math.tan(x))\n",
        "\n",
        "def asinh_normalize(series):\n",
        "  return series.apply(lambda x:math.asinh(x))\n",
        "\n",
        "def atan_normalize(series):\n",
        "  return series.apply(lambda x:math.atan(x))\n",
        "\n",
        "def clip(series, clip_to_min, clip_to_max):\n",
        "  return series.apply(lambda x:(\n",
        "    min(max(x, clip_to_min), clip_to_max)))\n",
        "\n",
        "def z_score_normalize(series):\n",
        "  mean = series.mean()\n",
        "  std_dv = series.std()\n",
        "  return series.apply(lambda x:(x - mean) / std_dv)\n",
        "\n",
        "def binary_threshold(series, threshold):\n",
        "  return series.apply(lambda x:(1 if x > threshold else 0))\n",
        "\n",
        "def get_quantile_based_buckets(feature_values, num_buckets):\n",
        "  quantiles = feature_values.quantile(\n",
        "    [(i+1.)/(num_buckets + 1.) for i in range(num_buckets)])\n",
        "  return [quantiles[q] for q in quantiles.keys()]\n"
      ],
      "execution_count": 0,
      "outputs": []
    },
    {
      "cell_type": "code",
      "metadata": {
        "id": "JEE_lJUF1D7c",
        "colab_type": "code",
        "colab": {}
      },
      "source": [
        "# Normalize tergets using log funcition\n",
        "# check_targets_distribution = pow_normalize(dataset_targets[target], base=5)\n",
        "# _ =  check_targets_distribution.hist(bins=20, figsize=(18, 12), xlabelsize=10)"
      ],
      "execution_count": 0,
      "outputs": []
    },
    {
      "cell_type": "code",
      "metadata": {
        "id": "up1zSxIoRnZo",
        "colab_type": "code",
        "colab": {}
      },
      "source": [
        "# dataset_features['roof'] = binary_threshold(dataset_features['roof'], .6)  # 0)\n",
        "# dataset_features['ground'] = binary_threshold(dataset_features['ground'], .7)  # 0)\n",
        "\n",
        "# # room_type from num to factor\n",
        "# string_roomtype = dataset_features['room_type'].apply(lambda x: '0_window')\n",
        "# string_roomtype[dataset_features['room_type'] < .6] = '3_wall'\n",
        "# string_roomtype[dataset_features['room_type'] < .2] = '1_wall'\n",
        "# string_roomtype[dataset_features['room_type'] < -.2] = '3_window'\n",
        "# string_roomtype[dataset_features['room_type'] < -.6] = '1_window'\n",
        "# dataset_features['room_type'] = string_roomtype\n",
        "\n",
        "# # v_ar to discrete\n",
        "# string_v_ar = dataset_features['v_ar'].apply(lambda x: .5)  \n",
        "# string_v_ar[dataset_features['v_ar'] < .5] = 0\n",
        "# string_v_ar[dataset_features['v_ar'] < 0] = -.5\n",
        "# string_v_ar[dataset_features['v_ar'] < -.5] = -1\n",
        "# dataset_features['v_ar'] = string_v_ar\n",
        "\n",
        "# #validation\n",
        "# dataset_validation_features['roof'] = binary_threshold(dataset_validation_features['roof'], .6)  # 0)\n",
        "# dataset_validation_features['ground'] = binary_threshold(dataset_validation_features['ground'], .7)  # 0)\n",
        "\n",
        "# # room_type from num to factor\n",
        "# string_roomtype = dataset_validation_features['room_type'].apply(lambda x: '0_window')  \n",
        "# string_roomtype[dataset_validation_features['room_type'] < .6] = '3_wall'\n",
        "# string_roomtype[dataset_validation_features['room_type'] < .2] = '1_wall'\n",
        "# string_roomtype[dataset_validation_features['room_type'] < -.2] = '3_window'\n",
        "# string_roomtype[dataset_validation_features['room_type'] < -.6] = '1_window'\n",
        "# dataset_validation_features['room_type'] = string_roomtype\n",
        "\n",
        "# # v_ar to discrete\n",
        "# string_v_ar = dataset_validation_features['v_ar'].apply(lambda x: .5)  \n",
        "# string_v_ar[dataset_validation_features['v_ar'] < .5] = 0\n",
        "# string_v_ar[dataset_validation_features['v_ar'] < 0] = -.5\n",
        "# string_v_ar[dataset_validation_features['v_ar'] < -.5] = -1\n",
        "# dataset_validation_features['v_ar'] = string_v_ar\n",
        "\n",
        "#test\n",
        "dataset_test_features['roof'] = binary_threshold(dataset_test_features['roof'], .6)  # 0)\n",
        "dataset_test_features['ground'] = binary_threshold(dataset_test_features['ground'], .7)  # 0)\n",
        "\n",
        "# room_type from num to factor\n",
        "string_roomtype = dataset_test_features['room_type'].apply(lambda x: '0_window')  \n",
        "string_roomtype[dataset_test_features['room_type'] < .6] = '3_wall'\n",
        "string_roomtype[dataset_test_features['room_type'] < .2] = '1_wall'\n",
        "string_roomtype[dataset_test_features['room_type'] < -.2] = '3_window'\n",
        "string_roomtype[dataset_test_features['room_type'] < -.6] = '1_window'\n",
        "dataset_test_features['room_type'] = string_roomtype\n",
        "\n",
        "# v_ar to discrete\n",
        "string_v_ar = dataset_test_features['v_ar'].apply(lambda x: .5)  \n",
        "string_v_ar[dataset_test_features['v_ar'] < .5] = 0\n",
        "string_v_ar[dataset_test_features['v_ar'] < 0] = -.5\n",
        "string_v_ar[dataset_test_features['v_ar'] < -.5] = -1\n",
        "dataset_test_features['v_ar'] = string_v_ar"
      ],
      "execution_count": 0,
      "outputs": []
    },
    {
      "cell_type": "code",
      "metadata": {
        "id": "LqhyMlU5GswY",
        "colab_type": "code",
        "colab": {}
      },
      "source": [
        "# SKIP!!!!!!!!!!!!!!!!!!!!!!!!!!!!!!!!!!!!!!!!!!!!!!!!!!!!!!\n",
        "# dataset = dataset.drop(dataset[dataset['temp'] > 40].index)\n",
        "\n",
        "dataset_features['area_real'] = dataset_features['area'].apply(lambda x: 60 + x*40)\n",
        "dataset_features['ratio_real'] = dataset_features['ratio'].apply(lambda x: 1.25 + x*.75)\n",
        "dataset_features['zone_height_real'] = dataset_features['zone_height'].apply(lambda x: 2.8 + x*.4)\n",
        "dataset_features['wwr_real'] = dataset_features['wwr'].apply(lambda x: .35 + x*.25)\n",
        "\n",
        "dataset_features['wall_0'] = (dataset_features['area_real']/dataset_features['ratio_real'])**(1/2) * dataset_features['zone_height_real']\n",
        "dataset_features['wall_2'] = 0  # dataset_features['wall_0']\n",
        "dataset_features['wall_1'] = dataset_features['wall_0'] * dataset_features['ratio_real']\n",
        "dataset_features['wall_3'] = dataset_features['wall_1']\n",
        "\n",
        "dataset_features.loc[dataset_features['room_type'] == '0_window', 'wall_3'] = 0\n",
        "dataset_features.loc[dataset_features['room_type'] == '0_window', 'wall_1'] = 0\n",
        "dataset_features.loc[(dataset_features['room_type'] == '1_wall') | (dataset_features['room_type'] == '1_window'), 'wall_3'] = 0\n",
        "dataset_features.loc[(dataset_features['room_type'] == '3_wall') | (dataset_features['room_type'] == '3_window'), 'wall_1'] = 0\n",
        "\n",
        "# dataset_features['wwr_0'] = 0\n",
        "dataset_features['wwr_1'] = 0\n",
        "dataset_features['wwr_2'] = 0\n",
        "dataset_features['wwr_3'] = 0\n",
        "\n",
        "dataset_features['wwr_0'] = dataset_features['wwr_real']\n",
        "dataset_features.loc[dataset_features['room_type'] == '1_window', 'wwr_1'] = dataset_features['wwr_real']\n",
        "dataset_features.loc[dataset_features['room_type'] == '3_window', 'wwr_3'] = dataset_features['wwr_real']\n",
        "\n",
        "max_wall_area = 45\n",
        "dataset_features['wall_0'] = dataset_features['wall_0']/max_wall_area\n",
        "dataset_features['wall_2'] = dataset_features['wall_2']/max_wall_area\n",
        "dataset_features['wall_1'] = dataset_features['wall_1']/max_wall_area\n",
        "dataset_features['wall_3'] = dataset_features['wall_3']/max_wall_area"
      ],
      "execution_count": 0,
      "outputs": []
    },
    {
      "cell_type": "code",
      "metadata": {
        "id": "bdK6pr1X9cVB",
        "colab_type": "code",
        "colab": {}
      },
      "source": [
        "# dataset_targets[target] = pow_normalize(dataset_targets[target], base=5)"
      ],
      "execution_count": 0,
      "outputs": []
    },
    {
      "cell_type": "code",
      "metadata": {
        "id": "dOdKR6BYVB9O",
        "colab_type": "code",
        "outputId": "3234d691-f76e-4d79-8edf-93d4419497d5",
        "colab": {
          "base_uri": "https://localhost:8080/",
          "height": 716
        }
      },
      "source": [
        "# Check features' histograms.\n",
        "\n",
        "_ = dataset_features.hist(bins=20, figsize=(18, 12), xlabelsize=10)"
      ],
      "execution_count": 0,
      "outputs": [
        {
          "output_type": "display_data",
          "data": {
            "image/png": "[encoded data removed]",
            "text/plain": [
              "<Figure size 1296x864 with 16 Axes>"
            ]
          },
          "metadata": {
            "tags": []
          }
        }
      ]
    },
    {
      "cell_type": "code",
      "metadata": {
        "id": "AexwTFqMIUwv",
        "colab_type": "code",
        "colab": {}
      },
      "source": [
        "print(\n",
        "    dataset_features['wall_0'].max(),\n",
        "    dataset_features['wall_2'].max(),\n",
        "    dataset_features['wall_1'].max(),\n",
        "    dataset_features['wall_3'].max(),\n",
        "\n",
        "    dataset_features['wwr_0'].max(),\n",
        "    dataset_features['wwr_1'].max(),\n",
        "    dataset_features['wwr_2'].max(),\n",
        "    dataset_features['wwr_3'].max()\n",
        ")"
      ],
      "execution_count": 0,
      "outputs": []
    },
    {
      "cell_type": "code",
      "metadata": {
        "id": "TQ12hsWeLMyq",
        "colab_type": "code",
        "colab": {}
      },
      "source": [
        "# SKIP!!!!!!!!!!!!!!!!!!!!!!!!!!!!!!!!!!!!!!!!!!!!!!!!!!!!!!\n",
        "\n",
        "cond_N = (dataset_features['azimuth'] < -.75) | (dataset_features['azimuth'] > .75)\n",
        "cond_E = (dataset_features['azimuth'] < -.25) & (dataset_features['azimuth'] > -.75)\n",
        "cond_S = (dataset_features['azimuth'] < .25) & (dataset_features['azimuth'] > -.25)\n",
        "cond_W = (dataset_features['azimuth'] < .75) & (dataset_features['azimuth'] > .25)\n",
        "wall_1exp = (dataset_features['room_type'] == '1_wall')\n",
        "wall_3exp = (dataset_features['room_type'] == '3_wall')\n",
        "window_1exp = (dataset_features['room_type'] == '1_window')\n",
        "window_3exp = (dataset_features['room_type'] == '3_window')\n",
        "\n",
        "dataset_features['wall_N'] = dataset_features['wall_0'].where(cond_N, 0)\n",
        "dataset_features['wall_E'] = dataset_features['wall_0'].where(cond_E, 0)\n",
        "dataset_features['wall_S'] = dataset_features['wall_0'].where(cond_S, 0)\n",
        "dataset_features['wall_W'] = dataset_features['wall_0'].where(cond_W, 0)\n",
        "\n",
        "dataset_features['wall_N'] = dataset_features['wall_1'].where((cond_W & (wall_1exp | window_1exp)), dataset_features['wall_N'])\n",
        "dataset_features['wall_E'] = dataset_features['wall_1'].where((cond_N & (wall_1exp | window_1exp)), dataset_features['wall_E'])\n",
        "dataset_features['wall_S'] = dataset_features['wall_1'].where((cond_E & (wall_1exp | window_1exp)), dataset_features['wall_S'])\n",
        "dataset_features['wall_W'] = dataset_features['wall_1'].where((cond_S & (wall_1exp | window_1exp)), dataset_features['wall_W'])\n",
        "\n",
        "dataset_features['wall_N'] = dataset_features['wall_3'].where((cond_E & (wall_3exp | window_3exp)), dataset_features['wall_N'])\n",
        "dataset_features['wall_E'] = dataset_features['wall_3'].where((cond_S & (wall_3exp | window_3exp)), dataset_features['wall_E'])\n",
        "dataset_features['wall_S'] = dataset_features['wall_3'].where((cond_W & (wall_3exp | window_3exp)), dataset_features['wall_S'])\n",
        "dataset_features['wall_W'] = dataset_features['wall_3'].where((cond_N & (wall_3exp | window_3exp)), dataset_features['wall_W'])\n",
        "\n",
        "dataset_features['wwr_N'] = dataset_features['wwr_real'].where(dataset_features['wall_N'] > 0, 0)\n",
        "dataset_features['wwr_E'] = dataset_features['wwr_real'].where(dataset_features['wall_E'] > 0, 0)\n",
        "dataset_features['wwr_S'] = dataset_features['wwr_real'].where(dataset_features['wall_S'] > 0, 0)\n",
        "dataset_features['wwr_W'] = dataset_features['wwr_real'].where(dataset_features['wall_W'] > 0, 0)\n",
        "\n",
        "dataset_features[['azimuth', 'room_type', 'wall_N', 'wall_E', 'wall_S', 'wall_W', 'wwr_N', 'wwr_E', 'wwr_S', 'wwr_W', 'wall_0', 'wall_1', 'wall_3', 'wall_2']].head(10)\n",
        "\n",
        "                                                          "
      ],
      "execution_count": 0,
      "outputs": []
    },
    {
      "cell_type": "code",
      "metadata": {
        "id": "4qtCR7QiHEoL",
        "colab_type": "code",
        "colab": {}
      },
      "source": [
        ""
      ],
      "execution_count": 0,
      "outputs": []
    },
    {
      "cell_type": "markdown",
      "metadata": {
        "id": "Sg-8fg8x6MmJ",
        "colab_type": "text"
      },
      "source": [
        "## Training Dataset"
      ]
    },
    {
      "cell_type": "code",
      "metadata": {
        "id": "cibVFcpL6P13",
        "colab_type": "code",
        "colab": {}
      },
      "source": [
        "# SKIP!!!!!!!!!!!!!!!!!!!!!!!!!!!!!!!!!!!!!!!!!!!!!!!!!!!!!!\n",
        "\n",
        "dataset_validation['roof'] = binary_threshold(dataset_validation['roof'], 0)\n",
        "dataset_validation['ground'] = binary_threshold(dataset_validation['ground'], 0)\n",
        "\n",
        "string_roomtype = dataset_validation['room_type'].apply(lambda x: '0_window')\n",
        "  \n",
        "string_roomtype[dataset_validation['room_type'] < .6] = '3_wall'\n",
        "string_roomtype[dataset_validation['room_type'] < .2] = '1_wall'\n",
        "string_roomtype[dataset_validation['room_type'] < -.2] = '3_window'\n",
        "string_roomtype[dataset_validation['room_type'] < -.6] = '1_window'\n",
        "\n",
        "dataset_validation['room_type'] = string_roomtype\n",
        "\n",
        "# dataset = dataset.drop(dataset[dataset['temp'] > 40].index)\n",
        "\n",
        "# dataset_validation['area_real'] = dataset_validation['area'].apply(lambda x: 60 + x*40)\n",
        "# dataset_validation['ratio_real'] = dataset_validation['ratio'].apply(lambda x: 1.25 + x*.75)\n",
        "# dataset_validation['zone_height_real'] = dataset_validation['zone_height'].apply(lambda x: 2.8 + x*.4)\n",
        "# dataset_validation['wwr_real'] = dataset_validation['wwr'].apply(lambda x: .35 + x*.25)\n",
        "\n",
        "# dataset_validation['wall_0'] = (dataset_validation['area_real']/dataset_validation['ratio_real'])**(1/2) * dataset_validation['zone_height_real']\n",
        "# dataset_validation['wall_2'] = 0  # dataset_validation['wall_0']\n",
        "# dataset_validation['wall_1'] = dataset_validation['wall_0'] * dataset_validation['ratio_real']\n",
        "# dataset_validation['wall_3'] = dataset_validation['wall_1']\n",
        "\n",
        "# dataset_validation.loc[dataset_validation['room_type'] == '0_window', 'wall_3'] = 0\n",
        "# dataset_validation.loc[dataset_validation['room_type'] == '0_window', 'wall_1'] = 0\n",
        "# dataset_validation.loc[(dataset_validation['room_type'] == '1_wall') | (dataset_validation['room_type'] == '1_window'), 'wall_3'] = 0\n",
        "# dataset_validation.loc[(dataset_validation['room_type'] == '3_wall') | (dataset_validation['room_type'] == '3_window'), 'wall_1'] = 0\n",
        "\n",
        "# # dataset_validation['wwr_0'] = 0\n",
        "# dataset_validation['wwr_1'] = 0\n",
        "# dataset_validation['wwr_2'] = 0\n",
        "# dataset_validation['wwr_3'] = 0\n",
        "\n",
        "# dataset_validation['wwr_0'] = dataset_validation['wwr_real']\n",
        "# dataset_validation.loc[dataset_validation['room_type'] == '1_window', 'wwr_1'] = dataset_validation['wwr_real']\n",
        "# dataset_validation.loc[dataset_validation['room_type'] == '3_window', 'wwr_3'] = dataset_validation['wwr_real']\n",
        "\n",
        "# max_wall_area = 45\n",
        "# dataset_validation['wall_0'] = dataset_validation['wall_0']/max_wall_area\n",
        "# dataset_validation['wall_2'] = dataset_validation['wall_2']/max_wall_area\n",
        "# dataset_validation['wall_1'] = dataset_validation['wall_1']/max_wall_area\n",
        "# dataset_validation['wall_3'] = dataset_validation['wall_3']/max_wall_area\n",
        "\n",
        "# cond_N = (dataset_validation['azimuth'] < -.75) | (dataset_validation['azimuth'] > .75)\n",
        "# cond_E = (dataset_validation['azimuth'] < -.25) & (dataset_validation['azimuth'] > -.75)\n",
        "# cond_S = (dataset_validation['azimuth'] < .25) & (dataset_validation['azimuth'] > -.25)\n",
        "# cond_W = (dataset_validation['azimuth'] < .75) & (dataset_validation['azimuth'] > .25)\n",
        "# wall_1exp = (dataset_validation['room_type'] == '1_wall')\n",
        "# wall_3exp = (dataset_validation['room_type'] == '3_wall')\n",
        "# window_1exp = (dataset_validation['room_type'] == '1_window')\n",
        "# window_3exp = (dataset_validation['room_type'] == '3_window')\n",
        "\n",
        "# dataset_validation['wall_N'] = dataset_validation['wall_0'].where(cond_N, 0)\n",
        "# dataset_validation['wall_E'] = dataset_validation['wall_0'].where(cond_E, 0)\n",
        "# dataset_validation['wall_S'] = dataset_validation['wall_0'].where(cond_S, 0)\n",
        "# dataset_validation['wall_W'] = dataset_validation['wall_0'].where(cond_W, 0)\n",
        "\n",
        "# dataset_validation['wall_N'] = dataset_validation['wall_1'].where((cond_W & (wall_1exp | window_1exp)), dataset_validation['wall_N'])\n",
        "# dataset_validation['wall_E'] = dataset_validation['wall_1'].where((cond_N & (wall_1exp | window_1exp)), dataset_validation['wall_E'])\n",
        "# dataset_validation['wall_S'] = dataset_validation['wall_1'].where((cond_E & (wall_1exp | window_1exp)), dataset_validation['wall_S'])\n",
        "# dataset_validation['wall_W'] = dataset_validation['wall_1'].where((cond_S & (wall_1exp | window_1exp)), dataset_validation['wall_W'])\n",
        "\n",
        "# dataset_validation['wall_N'] = dataset_validation['wall_3'].where((cond_E & (wall_3exp | window_3exp)), dataset_validation['wall_N'])\n",
        "# dataset_validation['wall_E'] = dataset_validation['wall_3'].where((cond_S & (wall_3exp | window_3exp)), dataset_validation['wall_E'])\n",
        "# dataset_validation['wall_S'] = dataset_validation['wall_3'].where((cond_W & (wall_3exp | window_3exp)), dataset_validation['wall_S'])\n",
        "# dataset_validation['wall_W'] = dataset_validation['wall_3'].where((cond_N & (wall_3exp | window_3exp)), dataset_validation['wall_W'])\n",
        "\n",
        "# dataset_validation['wwr_N'] = dataset_validation['wwr_real'].where(dataset_validation['wall_N'] > 0, 0)\n",
        "# dataset_validation['wwr_E'] = dataset_validation['wwr_real'].where(dataset_validation['wall_E'] > 0, 0)\n",
        "# dataset_validation['wwr_S'] = dataset_validation['wwr_real'].where(dataset_validation['wall_S'] > 0, 0)\n",
        "# dataset_validation['wwr_W'] = dataset_validation['wwr_real'].where(dataset_validation['wall_W'] > 0, 0)\n",
        "\n",
        "# dataset_validation[['azimuth', 'room_type', 'wall_N', 'wall_E', 'wall_S', 'wall_W', 'wwr_N', 'wwr_E', 'wwr_S', 'wwr_W', 'wall_0', 'wall_1', 'wall_3', 'wall_2']].head(10)\n",
        "\n",
        "                                                          "
      ],
      "execution_count": 0,
      "outputs": []
    },
    {
      "cell_type": "markdown",
      "metadata": {
        "id": "UNhEVvpD11YX",
        "colab_type": "text"
      },
      "source": [
        "## 5. Separação dos dados para treinamento e teste"
      ]
    },
    {
      "cell_type": "code",
      "metadata": {
        "id": "EhBU7F9XwYC6",
        "colab_type": "code",
        "outputId": "5379c12b-4994-457b-80e0-3bd695ed31d8",
        "colab": {
          "base_uri": "https://localhost:8080/",
          "height": 618
        }
      },
      "source": [
        "# # Define the size of training and validation.\n",
        "# training_fraction = .75\n",
        "\n",
        "# training_size = int(len(dataset_features.index)*training_fraction)\n",
        "# validation_size = len(dataset_features.index)-training_size\n",
        "\n",
        "# # Choose the first examples for training.\n",
        "# training_examples = dataset_features.head(training_size)\n",
        "# training_targets = dataset_targets.head(training_size)\n",
        "\n",
        "# # Choose the last examples for validation.\n",
        "# validation_examples = dataset_features.tail(validation_size)\n",
        "# validation_targets = dataset_targets.tail(validation_size)\n",
        "\n",
        "# # examples for training.\n",
        "# training_examples = dataset_features\n",
        "# training_targets = dataset_targets\n",
        "\n",
        "# # examples for validation.\n",
        "# validation_examples = dataset_validation_features  # preprocess_features(dataset_validation,features)\n",
        "# validation_targets = dataset_validation_targets  # preprocess_targets(dataset_validation,target)\n",
        "\n",
        "# examples for test.\n",
        "test_examples = dataset_test_features  \n",
        "test_targets = dataset_test_targets  \n",
        "\n",
        "# # Double-check that we've done the right thing.\n",
        "# print(\"Training examples summary:\")\n",
        "# display.display(training_examples.describe())\n",
        "# print(\"Validation examples summary:\")\n",
        "# display.display(validation_examples.describe())\n",
        "\n",
        "# print(\"Training targets summary:\")\n",
        "# display.display(training_targets.describe())\n",
        "# print(\"Validation targets summary:\")\n",
        "# display.display(validation_targets.describe())\n",
        "\n",
        "\n",
        "print(\"Test examples summary:\")\n",
        "display.display(test_examples.describe())\n",
        "\n",
        "print(\"Validation targets summary:\")\n",
        "display.display(test_targets.describe())\n"
      ],
      "execution_count": 0,
      "outputs": [
        {
          "output_type": "stream",
          "text": [
            "Test examples summary:\n"
          ],
          "name": "stdout"
        },
        {
          "output_type": "display_data",
          "data": {
            "text/html": [
              "<div>\n",
              "<style scoped>\n",
              "    .dataframe tbody tr th:only-of-type {\n",
              "        vertical-align: middle;\n",
              "    }\n",
              "\n",
              "    .dataframe tbody tr th {\n",
              "        vertical-align: top;\n",
              "    }\n",
              "\n",
              "    .dataframe thead th {\n",
              "        text-align: right;\n",
              "    }\n",
              "</style>\n",
              "<table border=\"1\" class=\"dataframe\">\n",
              "  <thead>\n",
              "    <tr style=\"text-align: right;\">\n",
              "      <th></th>\n",
              "      <th>area</th>\n",
              "      <th>azimuth</th>\n",
              "      <th>floor_height</th>\n",
              "      <th>absorptance</th>\n",
              "      <th>wall_u</th>\n",
              "      <th>wwr</th>\n",
              "      <th>shading</th>\n",
              "      <th>people</th>\n",
              "      <th>open_fac</th>\n",
              "      <th>roof</th>\n",
              "      <th>ground</th>\n",
              "      <th>v_ar</th>\n",
              "      <th>glass</th>\n",
              "    </tr>\n",
              "  </thead>\n",
              "  <tbody>\n",
              "    <tr>\n",
              "      <th>count</th>\n",
              "      <td>20000.00</td>\n",
              "      <td>20000.00</td>\n",
              "      <td>20000.00</td>\n",
              "      <td>20000.00</td>\n",
              "      <td>20000.00</td>\n",
              "      <td>20000.00</td>\n",
              "      <td>20000.00</td>\n",
              "      <td>20000.00</td>\n",
              "      <td>20000.00</td>\n",
              "      <td>20000.00</td>\n",
              "      <td>20000.00</td>\n",
              "      <td>20000.00</td>\n",
              "      <td>20000.00</td>\n",
              "    </tr>\n",
              "    <tr>\n",
              "      <th>mean</th>\n",
              "      <td>-0.00</td>\n",
              "      <td>-0.00</td>\n",
              "      <td>-0.00</td>\n",
              "      <td>0.00</td>\n",
              "      <td>0.00</td>\n",
              "      <td>-0.00</td>\n",
              "      <td>-0.00</td>\n",
              "      <td>0.00</td>\n",
              "      <td>-0.00</td>\n",
              "      <td>0.20</td>\n",
              "      <td>0.15</td>\n",
              "      <td>-0.25</td>\n",
              "      <td>-0.00</td>\n",
              "    </tr>\n",
              "    <tr>\n",
              "      <th>std</th>\n",
              "      <td>0.58</td>\n",
              "      <td>0.58</td>\n",
              "      <td>0.58</td>\n",
              "      <td>0.58</td>\n",
              "      <td>0.58</td>\n",
              "      <td>0.58</td>\n",
              "      <td>0.58</td>\n",
              "      <td>0.58</td>\n",
              "      <td>0.58</td>\n",
              "      <td>0.40</td>\n",
              "      <td>0.36</td>\n",
              "      <td>0.56</td>\n",
              "      <td>0.58</td>\n",
              "    </tr>\n",
              "    <tr>\n",
              "      <th>min</th>\n",
              "      <td>-1.00</td>\n",
              "      <td>-1.00</td>\n",
              "      <td>-1.00</td>\n",
              "      <td>-1.00</td>\n",
              "      <td>-1.00</td>\n",
              "      <td>-1.00</td>\n",
              "      <td>-1.00</td>\n",
              "      <td>-1.00</td>\n",
              "      <td>-1.00</td>\n",
              "      <td>0.00</td>\n",
              "      <td>0.00</td>\n",
              "      <td>-1.00</td>\n",
              "      <td>-1.00</td>\n",
              "    </tr>\n",
              "    <tr>\n",
              "      <th>25%</th>\n",
              "      <td>-0.50</td>\n",
              "      <td>-0.50</td>\n",
              "      <td>-0.50</td>\n",
              "      <td>-0.50</td>\n",
              "      <td>-0.50</td>\n",
              "      <td>-0.50</td>\n",
              "      <td>-0.50</td>\n",
              "      <td>-0.50</td>\n",
              "      <td>-0.50</td>\n",
              "      <td>0.00</td>\n",
              "      <td>0.00</td>\n",
              "      <td>-0.62</td>\n",
              "      <td>-0.50</td>\n",
              "    </tr>\n",
              "    <tr>\n",
              "      <th>50%</th>\n",
              "      <td>0.00</td>\n",
              "      <td>0.00</td>\n",
              "      <td>-0.00</td>\n",
              "      <td>-0.00</td>\n",
              "      <td>-0.00</td>\n",
              "      <td>-0.00</td>\n",
              "      <td>0.00</td>\n",
              "      <td>0.00</td>\n",
              "      <td>-0.00</td>\n",
              "      <td>0.00</td>\n",
              "      <td>0.00</td>\n",
              "      <td>-0.25</td>\n",
              "      <td>-0.00</td>\n",
              "    </tr>\n",
              "    <tr>\n",
              "      <th>75%</th>\n",
              "      <td>0.50</td>\n",
              "      <td>0.50</td>\n",
              "      <td>0.50</td>\n",
              "      <td>0.50</td>\n",
              "      <td>0.50</td>\n",
              "      <td>0.50</td>\n",
              "      <td>0.50</td>\n",
              "      <td>0.50</td>\n",
              "      <td>0.50</td>\n",
              "      <td>0.00</td>\n",
              "      <td>0.00</td>\n",
              "      <td>0.12</td>\n",
              "      <td>0.50</td>\n",
              "    </tr>\n",
              "    <tr>\n",
              "      <th>max</th>\n",
              "      <td>1.00</td>\n",
              "      <td>1.00</td>\n",
              "      <td>1.00</td>\n",
              "      <td>1.00</td>\n",
              "      <td>1.00</td>\n",
              "      <td>1.00</td>\n",
              "      <td>1.00</td>\n",
              "      <td>1.00</td>\n",
              "      <td>1.00</td>\n",
              "      <td>1.00</td>\n",
              "      <td>1.00</td>\n",
              "      <td>0.50</td>\n",
              "      <td>1.00</td>\n",
              "    </tr>\n",
              "  </tbody>\n",
              "</table>\n",
              "</div>"
            ],
            "text/plain": [
              "          area  azimuth  floor_height  ...   ground     v_ar    glass\n",
              "count 20000.00 20000.00      20000.00  ... 20000.00 20000.00 20000.00\n",
              "mean     -0.00    -0.00         -0.00  ...     0.15    -0.25    -0.00\n",
              "std       0.58     0.58          0.58  ...     0.36     0.56     0.58\n",
              "min      -1.00    -1.00         -1.00  ...     0.00    -1.00    -1.00\n",
              "25%      -0.50    -0.50         -0.50  ...     0.00    -0.62    -0.50\n",
              "50%       0.00     0.00         -0.00  ...     0.00    -0.25    -0.00\n",
              "75%       0.50     0.50          0.50  ...     0.00     0.12     0.50\n",
              "max       1.00     1.00          1.00  ...     1.00     0.50     1.00\n",
              "\n",
              "[8 rows x 13 columns]"
            ]
          },
          "metadata": {
            "tags": []
          }
        },
        {
          "output_type": "stream",
          "text": [
            "Validation targets summary:\n"
          ],
          "name": "stdout"
        },
        {
          "output_type": "display_data",
          "data": {
            "text/html": [
              "<div>\n",
              "<style scoped>\n",
              "    .dataframe tbody tr th:only-of-type {\n",
              "        vertical-align: middle;\n",
              "    }\n",
              "\n",
              "    .dataframe tbody tr th {\n",
              "        vertical-align: top;\n",
              "    }\n",
              "\n",
              "    .dataframe thead th {\n",
              "        text-align: right;\n",
              "    }\n",
              "</style>\n",
              "<table border=\"1\" class=\"dataframe\">\n",
              "  <thead>\n",
              "    <tr style=\"text-align: right;\">\n",
              "      <th></th>\n",
              "      <th>ehf</th>\n",
              "    </tr>\n",
              "  </thead>\n",
              "  <tbody>\n",
              "    <tr>\n",
              "      <th>count</th>\n",
              "      <td>20000.00</td>\n",
              "    </tr>\n",
              "    <tr>\n",
              "      <th>mean</th>\n",
              "      <td>0.76</td>\n",
              "    </tr>\n",
              "    <tr>\n",
              "      <th>std</th>\n",
              "      <td>0.19</td>\n",
              "    </tr>\n",
              "    <tr>\n",
              "      <th>min</th>\n",
              "      <td>0.00</td>\n",
              "    </tr>\n",
              "    <tr>\n",
              "      <th>25%</th>\n",
              "      <td>0.63</td>\n",
              "    </tr>\n",
              "    <tr>\n",
              "      <th>50%</th>\n",
              "      <td>0.78</td>\n",
              "    </tr>\n",
              "    <tr>\n",
              "      <th>75%</th>\n",
              "      <td>0.91</td>\n",
              "    </tr>\n",
              "    <tr>\n",
              "      <th>max</th>\n",
              "      <td>1.00</td>\n",
              "    </tr>\n",
              "  </tbody>\n",
              "</table>\n",
              "</div>"
            ],
            "text/plain": [
              "           ehf\n",
              "count 20000.00\n",
              "mean      0.76\n",
              "std       0.19\n",
              "min       0.00\n",
              "25%       0.63\n",
              "50%       0.78\n",
              "75%       0.91\n",
              "max       1.00"
            ]
          },
          "metadata": {
            "tags": []
          }
        }
      ]
    },
    {
      "cell_type": "code",
      "metadata": {
        "id": "3Rqs8UtbrxLo",
        "colab_type": "code",
        "colab": {}
      },
      "source": [
        ""
      ],
      "execution_count": 0,
      "outputs": []
    },
    {
      "cell_type": "markdown",
      "metadata": {
        "id": "guj6j3wLVPQl",
        "colab_type": "text"
      },
      "source": [
        "## 6. Treinando a RNA"
      ]
    },
    {
      "cell_type": "code",
      "metadata": {
        "id": "h3LbVih7USdR",
        "colab_type": "code",
        "colab": {}
      },
      "source": [
        "# ['area', 'azimuth', 'floor_height', 'absorptance', 'wall_u', 'wwr', \n",
        "# 'shading', 'people', 'open_fac', 'roof', 'ground', 'v_ar', 'room_type']\n",
        "\n",
        "def construct_feature_columns():\n",
        "  \"\"\"Construct the TensorFlow Feature Columns.\n",
        "\n",
        "  Returns:\n",
        "    A set of feature columns\n",
        "  \"\"\" \n",
        "  \n",
        "  area = tf.feature_column.numeric_column(\"area\")\n",
        "  azimuth = tf.feature_column.numeric_column(\"azimuth\")\n",
        "  floor_height = tf.feature_column.numeric_column(\"floor_height\")\n",
        "  absorptance = tf.feature_column.numeric_column(\"absorptance\")\n",
        "  shading = tf.feature_column.numeric_column(\"shading\")\n",
        "  wall_u = tf.feature_column.numeric_column(\"wall_u\")\n",
        "#   wall_ct = tf.feature_column.numeric_column(\"wall_ct\")\n",
        "  wwr = tf.feature_column.numeric_column(\"wwr\")\n",
        "  glass = tf.feature_column.numeric_column(\"glass\")\n",
        "#   wall_N =  tf.feature_column.numeric_column('wall_N')\n",
        "#   wall_E =  tf.feature_column.numeric_column('wall_E')\n",
        "#   wall_S =  tf.feature_column.numeric_column('wall_S')\n",
        "#   wall_W =  tf.feature_column.numeric_column('wall_W')\n",
        "#   wwr_N =  tf.feature_column.numeric_column('wwr_N')\n",
        "#   wwr_E =  tf.feature_column.numeric_column('wwr_E')\n",
        "#   wwr_S =  tf.feature_column.numeric_column('wwr_S')\n",
        "#   wwr_W =  tf.feature_column.numeric_column('wwr_W')\n",
        "  open_fac = tf.feature_column.numeric_column(\"open_fac\")\n",
        "  people = tf.feature_column.numeric_column(\"people\")\n",
        "  ground = tf.feature_column.numeric_column(\"ground\")\n",
        "  roof = tf.feature_column.numeric_column(\"roof\")\n",
        "  v_ar = tf.feature_column.numeric_column(\"v_ar\")\n",
        "  \n",
        "  terms = ('0_window', '3_wall', '1_wall', '3_window', '1_window')\n",
        "  room_type = tf.feature_column.indicator_column(tf.feature_column.categorical_column_with_vocabulary_list(key=\"room_type\", vocabulary_list=terms))\n",
        "\n",
        "  return set([area,\n",
        "              azimuth,\n",
        "              floor_height,\n",
        "              absorptance,\n",
        "              shading,\n",
        "              wall_u,\n",
        "#               wall_ct,\n",
        "              wwr,\n",
        "              glass,\n",
        "#               wall_N,\n",
        "#               wall_E,\n",
        "#               wall_S,\n",
        "#               wall_W,\n",
        "#               wwr_N,\n",
        "#               wwr_E,\n",
        "#               wwr_S,\n",
        "#               wwr_W,\n",
        "              open_fac,\n",
        "              people,\n",
        "              ground,\n",
        "              roof,\n",
        "              v_ar,\n",
        "              room_type\n",
        "             ])"
      ],
      "execution_count": 0,
      "outputs": []
    },
    {
      "cell_type": "code",
      "metadata": {
        "id": "LwssxZ4tVd4x",
        "colab_type": "code",
        "colab": {}
      },
      "source": [
        "def my_input_fn(features, targets, batch_size=1, shuffle=True, num_epochs=None):\n",
        "    \"\"\"Trains a neural network model.\n",
        "  \n",
        "    Args:\n",
        "      features: pandas DataFrame of features\n",
        "      targets: pandas DataFrame of targets\n",
        "      batch_size: Size of batches to be passed to the model\n",
        "      shuffle: True or False. Whether to shuffle the data.\n",
        "      num_epochs: Number of epochs for which data should be repeated. None = repeat indefinitely\n",
        "    Returns:\n",
        "      Tuple of (features, labels) for next data batch\n",
        "    \"\"\"\n",
        "    \n",
        "    # Convert pandas data into a dict of np arrays.\n",
        "    features = {key:np.array(value) for key,value in dict(features).items()}                                           \n",
        " \n",
        "    # Construct a dataset, and configure batching/repeating.\n",
        "    ds = Dataset.from_tensor_slices((features,targets)) # warning: 2GB limit\n",
        "    ds = ds.batch(batch_size).repeat(num_epochs)\n",
        "    \n",
        "    # Shuffle the data, if specified.\n",
        "    if shuffle:\n",
        "      ds = ds.shuffle(10000)\n",
        "    \n",
        "    # Return the next batch of data.\n",
        "    features, labels = ds.make_one_shot_iterator().get_next()\n",
        "    return features, labels"
      ],
      "execution_count": 0,
      "outputs": []
    },
    {
      "cell_type": "code",
      "metadata": {
        "id": "Kuxpwb51V6g0",
        "colab_type": "code",
        "colab": {}
      },
      "source": [
        "def train_nn_regression_model(\n",
        "    my_optimizer,\n",
        "    steps,\n",
        "    batch_size,\n",
        "    hidden_units,\n",
        "    target,\n",
        "    training_examples,\n",
        "    training_targets,\n",
        "    validation_examples,\n",
        "    validation_targets,\n",
        "    periods = 10):\n",
        "  \"\"\"Trains a neural network regression model.\n",
        "  \n",
        "  In addition to training, this function also prints training progress information,\n",
        "  as well as a plot of the training and validation loss over time.\n",
        "  \n",
        "  Args:\n",
        "    my_optimizer: An instance of `tf.train.Optimizer`, the optimizer to use.\n",
        "    steps: A non-zero `int`, the total number of training steps. A training step\n",
        "      consists of a forward and backward pass using a single batch.\n",
        "    batch_size: A non-zero `int`, the batch size.\n",
        "    hidden_units: A `list` of int values, specifying the number of neurons in each layer.\n",
        "    training_examples: A `DataFrame` containing one or more columns from\n",
        "      the dataset to use as input features for training.\n",
        "    training_targets: A `DataFrame` containing exactly one column from\n",
        "      the dataset to use as target for training.\n",
        "    validation_examples: A `DataFrame` containing one or more columns from\n",
        "      the dataset to use as input features for validation.\n",
        "    validation_targets: A `DataFrame` containing exactly one column from\n",
        "      the dataset to use as target for validation.\n",
        "      \n",
        "  Returns:\n",
        "    A tuple `(estimator, training_losses, validation_losses)`:\n",
        "      estimator: the trained `DNNRegressor` object.\n",
        "      training_losses: a `list` containing the training loss values taken during training.\n",
        "      validation_losses: a `list` containing the validation loss values taken during training.\n",
        "  \"\"\"\n",
        "\n",
        "  steps_per_period = steps / periods\n",
        "  \n",
        "  # Create a DNNRegressor object.\n",
        "  my_optimizer = tf.contrib.estimator.clip_gradients_by_norm(my_optimizer, 5.0)\n",
        "  dnn_regressor = tf.estimator.DNNRegressor(\n",
        "      feature_columns=construct_feature_columns(),\n",
        "      hidden_units=hidden_units,\n",
        "      optimizer=my_optimizer,\n",
        "      model_dir='ann'\n",
        "  )\n",
        "  \n",
        "  # Create input functions.\n",
        "  training_input_fn = lambda: my_input_fn(training_examples, \n",
        "                                          training_targets[target], \n",
        "                                          batch_size=batch_size)\n",
        "  predict_training_input_fn = lambda: my_input_fn(training_examples, \n",
        "                                                  training_targets[target], \n",
        "                                                  num_epochs=1, \n",
        "                                                  shuffle=False)\n",
        "  predict_validation_input_fn = lambda: my_input_fn(validation_examples, \n",
        "                                                    validation_targets[target], \n",
        "                                                    num_epochs=1, \n",
        "                                                    shuffle=False)\n",
        "\n",
        "  # Train the model, but do so inside a loop so that we can periodically assess\n",
        "  # loss metrics.\n",
        "  print(\"Training model...\")\n",
        "  print(\"RMSE (on training data):\")\n",
        "  training_rmse = []\n",
        "  validation_rmse = []\n",
        "  for period in range (0, periods):\n",
        "    # Train the model, starting from the prior state.\n",
        "    dnn_regressor.train(\n",
        "        input_fn=training_input_fn,\n",
        "        steps=steps_per_period\n",
        "    )\n",
        "    # Take a break and compute predictions.\n",
        "    training_predictions = dnn_regressor.predict(input_fn=predict_training_input_fn)\n",
        "    training_predictions = np.array([item['predictions'][0] for item in training_predictions])\n",
        "    \n",
        "    validation_predictions = dnn_regressor.predict(input_fn=predict_validation_input_fn)\n",
        "    validation_predictions = np.array([item['predictions'][0] for item in validation_predictions])\n",
        "    \n",
        "    # Compute training and validation loss.\n",
        "    training_root_mean_squared_error = math.sqrt(\n",
        "        metrics.mean_squared_error(training_predictions, training_targets))\n",
        "    validation_root_mean_squared_error = math.sqrt(\n",
        "        metrics.mean_squared_error(validation_predictions, validation_targets))\n",
        "    # Occasionally print the current loss.\n",
        "    print(\"  period %02d : %0.4f\" % (period, training_root_mean_squared_error))\n",
        "    # Add the loss metrics from this period to our list.\n",
        "    training_rmse.append(training_root_mean_squared_error)\n",
        "    validation_rmse.append(validation_root_mean_squared_error)\n",
        "  print(\"Model training finished.\")\n",
        "\n",
        "  # Output a graph of loss metrics over periods.\n",
        "  plt.ylabel(\"RMSE\")\n",
        "  plt.xlabel(\"Periods\")\n",
        "  plt.title(\"Root Mean Squared Error vs. Periods\")\n",
        "  plt.tight_layout()\n",
        "  plt.plot(training_rmse, label=\"training\")\n",
        "  plt.plot(validation_rmse, label=\"validation\")\n",
        "  plt.legend()\n",
        "\n",
        "  print(\"Final RMSE (on training data):   %0.4f\" % training_root_mean_squared_error)\n",
        "  print(\"Final RMSE (on validation data): %0.4f\" % validation_root_mean_squared_error)\n",
        "\n",
        "  return dnn_regressor #, training_rmse, validation_rmse"
      ],
      "execution_count": 0,
      "outputs": []
    },
    {
      "cell_type": "code",
      "metadata": {
        "colab_type": "code",
        "id": "3cT2HGeOWYMJ",
        "outputId": "4082e1cb-9268-47a4-abaf-80c4dc170856",
        "colab": {
          "base_uri": "https://localhost:8080/",
          "height": 558
        }
      },
      "source": [
        "EHF = train_nn_regression_model(\n",
        "    my_optimizer=tf.train.AdagradOptimizer(learning_rate=0.05), # AdagradOptimizer\n",
        "    steps=150000,\n",
        "    batch_size=50,\n",
        "    hidden_units=[50, 20], # duas camadas\n",
        "    target=target,\n",
        "    training_examples=training_examples,\n",
        "    training_targets=training_targets,\n",
        "    validation_examples=validation_examples,\n",
        "    validation_targets=validation_targets)\n"
      ],
      "execution_count": 0,
      "outputs": [
        {
          "output_type": "stream",
          "text": [
            "Training model...\n",
            "RMSE (on training data):\n",
            "  period 00 : 0.0184\n",
            "  period 01 : 0.0160\n",
            "  period 02 : 0.0145\n",
            "  period 03 : 0.0138\n",
            "  period 04 : 0.0136\n",
            "  period 05 : 0.0134\n",
            "  period 06 : 0.0133\n",
            "  period 07 : 0.0130\n",
            "  period 08 : 0.0133\n",
            "  period 09 : 0.0128\n",
            "Model training finished.\n",
            "Final RMSE (on training data):   0.0128\n",
            "Final RMSE (on validation data): 0.0130\n"
          ],
          "name": "stdout"
        },
        {
          "output_type": "display_data",
          "data": {
            "image/png": "[encoded data removed]",
            "text/plain": [
              "<Figure size 432x288 with 1 Axes>"
            ]
          },
          "metadata": {
            "tags": []
          }
        }
      ]
    },
    {
      "cell_type": "code",
      "metadata": {
        "colab_type": "code",
        "id": "66c59sovWXzs",
        "outputId": "f5a8b11a-4c33-4234-8698-86240f284d8f",
        "colab": {
          "base_uri": "https://localhost:8080/",
          "height": 269
        }
      },
      "source": [
        "\n",
        "predict_validation_input_fn = lambda: my_input_fn(validation_examples, \n",
        "                                                  validation_targets[target], \n",
        "                                                  num_epochs=1, \n",
        "                                                  shuffle=False)\n",
        "\n",
        "validation_predictions = EHF.predict(input_fn=predict_validation_input_fn)\n",
        "# validation_predictions = classifier.predict(input_fn=predict_validation_input_fn)\n",
        "validation_predictions = np.array([item['predictions'][0] for item in validation_predictions])\n",
        "\n",
        "d = {'pred': validation_predictions, 'simulado': validation_targets[target]}\n",
        "plot_df = pd.DataFrame(data = d)\n",
        "\n",
        "# plot_df['pred'] = plot_df['pred'].apply(lambda x: 0 if x < 0 else x)\n",
        "# plot_df['pred'] = plot_df['pred'].apply(lambda x: math.pow(x, 1/5))\n",
        "# plot_df['real'] = plot_df['real'].apply(lambda x: math.pow(x, 1/5))\n",
        "\n",
        "plt.plot([0,max(plot_df['pred'].max(),plot_df['simulado'].max())],[0,max(plot_df['pred'].max(),plot_df['simulado'].max())])\n",
        "\n",
        "plt.scatter(plot_df['pred'], plot_df['simulado'], alpha = .03)\n",
        "\n",
        "plot_df.to_csv('ann_validation_'+datetime.today().strftime('%m-%d')+'.csv')\n"
      ],
      "execution_count": 0,
      "outputs": [
        {
          "output_type": "display_data",
          "data": {
            "image/png": "[encoded data removed]",
            "text/plain": [
              "<Figure size 432x288 with 1 Axes>"
            ]
          },
          "metadata": {
            "tags": []
          }
        }
      ]
    },
    {
      "cell_type": "code",
      "metadata": {
        "id": "qaXrY610Ejuv",
        "colab_type": "code",
        "outputId": "82202bdf-c0aa-4098-9212-5b6baf2e76ea",
        "colab": {
          "base_uri": "https://localhost:8080/",
          "height": 269
        }
      },
      "source": [
        "predict_test_input_fn = lambda: my_input_fn(test_examples, \n",
        "                                                  test_targets[target], \n",
        "                                                  num_epochs=1, \n",
        "                                                  shuffle=False)\n",
        "\n",
        "test_predictions = EHF.predict(input_fn=predict_test_input_fn)\n",
        "# validation_predictions = classifier.predict(input_fn=predict_test_input_fn)\n",
        "test_predictions = np.array([item['predictions'][0] for item in test_predictions])\n",
        "\n",
        "d = {'pred': test_predictions, 'simulado': test_targets[target]}\n",
        "plot_df = pd.DataFrame(data = d)\n",
        "\n",
        "# plot_df['pred'] = plot_df['pred'].apply(lambda x: 0 if x < 0 else x)\n",
        "# plot_df['pred'] = plot_df['pred'].apply(lambda x: math.pow(x, 1/5))\n",
        "# plot_df['real'] = plot_df['real'].apply(lambda x: math.pow(x, 1/5))\n",
        "\n",
        "plt.plot([0,max(plot_df['pred'].max(),plot_df['simulado'].max())],[0,max(plot_df['pred'].max(),plot_df['simulado'].max())])\n",
        "\n",
        "plt.scatter(plot_df['pred'], plot_df['simulado'], alpha = .03)\n",
        "\n",
        "plot_df.to_csv('ann_test_'+datetime.today().strftime('%m-%d')+'.csv')"
      ],
      "execution_count": 0,
      "outputs": [
        {
          "output_type": "display_data",
          "data": {
            "image/png": "[encoded data removed]",
            "text/plain": [
              "<Figure size 432x288 with 1 Axes>"
            ]
          },
          "metadata": {
            "tags": []
          }
        }
      ]
    },
    {
      "cell_type": "code",
      "metadata": {
        "id": "ncGfKEok7fYi",
        "colab_type": "code",
        "colab": {}
      },
      "source": [
        "EHF2 = train_nn_regression_model(\n",
        "    my_optimizer=tf.train.AdagradOptimizer(learning_rate=0.05), # AdagradOptimizer\n",
        "    steps= 50000,\n",
        "    batch_size=50,\n",
        "    hidden_units=[50, 50, 20], # tres camadas\n",
        "    target=target,\n",
        "    training_examples=training_examples,\n",
        "    training_targets=training_targets,\n",
        "    validation_examples=validation_examples,\n",
        "    validation_targets=validation_targets)"
      ],
      "execution_count": 0,
      "outputs": []
    },
    {
      "cell_type": "code",
      "metadata": {
        "id": "9esR4f0tctEF",
        "colab_type": "code",
        "colab": {}
      },
      "source": [
        "predict_validation_input_fn = lambda: my_input_fn(validation_examples, \n",
        "                                                  validation_targets[target], \n",
        "                                                  num_epochs=1, \n",
        "                                                  shuffle=False)\n",
        "\n",
        "validation_predictions = EHF2.predict(input_fn=predict_validation_input_fn)\n",
        "validation_predictions = np.array([item['predictions'][0] for item in validation_predictions])\n",
        "\n",
        "d = {'pred': validation_predictions, 'real': validation_targets[target]}\n",
        "plot_df = pd.DataFrame(data = d)\n",
        "# plot_df['pred'] = plot_df['pred'].apply(lambda x: 0 if x < 0 else x)\n",
        "# plot_df['pred'] = plot_df['pred'].apply(lambda x: math.pow(x, 1/5))\n",
        "# plot_df['real'] = plot_df['real'].apply(lambda x: math.pow(x, 1/5))\n",
        "\n",
        "plt.plot([0,max(plot_df['pred'].max(),plot_df['real'].max())],[0,max(plot_df['pred'].max(),plot_df['real'].max())])\n",
        "\n",
        "plt.scatter(plot_df['pred'], plot_df['real'], alpha = .03)"
      ],
      "execution_count": 0,
      "outputs": []
    },
    {
      "cell_type": "code",
      "metadata": {
        "id": "pTYKdcz8c0ba",
        "colab_type": "code",
        "colab": {}
      },
      "source": [
        "validation_diff = validation_predictions-validation_targets\n",
        "\n",
        "print(percentile(validation_diff,.95))\n",
        "print(percentile(validation_diff,.05))"
      ],
      "execution_count": 0,
      "outputs": []
    },
    {
      "cell_type": "markdown",
      "metadata": {
        "id": "IzKDpjNHdtyA",
        "colab_type": "text"
      },
      "source": [
        "## Extra"
      ]
    },
    {
      "cell_type": "code",
      "metadata": {
        "id": "FWZ7Q9F5Py_a",
        "colab_type": "code",
        "colab": {}
      },
      "source": [
        "from google.colab import files\n"
      ],
      "execution_count": 0,
      "outputs": []
    },
    {
      "cell_type": "code",
      "metadata": {
        "id": "rqRkqJ2sP4yw",
        "colab_type": "code",
        "colab": {}
      },
      "source": [
        "predict_validation_input_fn = lambda: my_input_fn(validation_examples, \n",
        "                                                  validation_targets[target], \n",
        "                                                  num_epochs=1, \n",
        "                                                  shuffle=False)\n",
        "\n",
        "validation_predictions = EHF.predict(input_fn=predict_validation_input_fn)\n",
        "validation_predictions = np.array([item['predictions'][0] for item in validation_predictions])\n",
        "\n",
        "d = {'pred': validation_predictions, 'simulado': validation_targets[target]}\n",
        "plot_df_test = pd.DataFrame(data = d)\n",
        "\n",
        "plot_df_test.to_csv('plot_test_08-06.csv')\n",
        "# files.download('plot_test_04-24.csv')\n"
      ],
      "execution_count": 0,
      "outputs": []
    },
    {
      "cell_type": "code",
      "metadata": {
        "id": "AuMfOm96ReFO",
        "colab_type": "code",
        "colab": {}
      },
      "source": [
        "# mv /content/model.ckpt-150000\\(3\\).index /content/model.ckpt-150000.index\n",
        "\n",
        "# mv /content/model.ckpt-150000\\(3\\).meta /content/model.ckpt-150000.meta\n"
      ],
      "execution_count": 0,
      "outputs": []
    },
    {
      "cell_type": "code",
      "metadata": {
        "id": "Lup_qBUGE7Iz",
        "colab_type": "code",
        "outputId": "31b36027-66d4-4a82-d660-50b348640b92",
        "colab": {
          "base_uri": "https://localhost:8080/",
          "height": 434
        }
      },
      "source": [
        "!zip -r /content/ann.zip /content/ann"
      ],
      "execution_count": 0,
      "outputs": [
        {
          "output_type": "stream",
          "text": [
            "  adding: content/ann/ (stored 0%)\n",
            "  adding: content/ann/model.ckpt-105000.index (deflated 42%)\n",
            "  adding: content/ann/model.ckpt-90000.meta (deflated 34%)\n",
            "  adding: content/ann/model.ckpt-90000.index (deflated 42%)\n",
            "  adding: content/ann/model.ckpt-150000.data-00001-of-00002 (deflated 5%)\n",
            "  adding: content/ann/events.out.tfevents.1565790936.6a710ffacedc (deflated 35%)\n",
            "  adding: content/ann/model.ckpt-135000.data-00000-of-00002 (deflated 13%)\n",
            "  adding: content/ann/model.ckpt-150000.meta (deflated 34%)\n",
            "  adding: content/ann/model.ckpt-90000.data-00001-of-00002 (deflated 5%)\n",
            "  adding: content/ann/model.ckpt-120000.data-00000-of-00002 (deflated 13%)\n",
            "  adding: content/ann/checkpoint (deflated 76%)\n",
            "  adding: content/ann/model.ckpt-90000.data-00000-of-00002 (deflated 13%)\n",
            "  adding: content/ann/model.ckpt-105000.meta (deflated 34%)\n",
            "  adding: content/ann/model.ckpt-135000.data-00001-of-00002 (deflated 5%)\n",
            "  adding: content/ann/graph.pbtxt (deflated 72%)\n",
            "  adding: content/ann/model.ckpt-135000.meta (deflated 34%)\n",
            "  adding: content/ann/model.ckpt-120000.meta (deflated 34%)\n",
            "  adding: content/ann/model.ckpt-105000.data-00001-of-00002 (deflated 5%)\n",
            "  adding: content/ann/model.ckpt-120000.data-00001-of-00002 (deflated 5%)\n",
            "  adding: content/ann/model.ckpt-120000.index (deflated 42%)\n",
            "  adding: content/ann/model.ckpt-135000.index (deflated 42%)\n",
            "  adding: content/ann/model.ckpt-150000.data-00000-of-00002 (deflated 13%)\n",
            "  adding: content/ann/model.ckpt-105000.data-00000-of-00002 (deflated 13%)\n",
            "  adding: content/ann/model.ckpt-150000.index (deflated 42%)\n"
          ],
          "name": "stdout"
        }
      ]
    },
    {
      "cell_type": "code",
      "metadata": {
        "id": "zBl-zQuAr7-I",
        "colab_type": "code",
        "outputId": "c8461bfe-520e-4461-df15-bddf3dd1f2da",
        "colab": {
          "base_uri": "https://localhost:8080/",
          "height": 451
        }
      },
      "source": [
        "from google.colab import files\n",
        "files.download(\"/content/ann.zip\")"
      ],
      "execution_count": 0,
      "outputs": [
        {
          "output_type": "stream",
          "text": [
            "----------------------------------------\n",
            "Exception happened during processing of request from ('::ffff:127.0.0.1', 38914, 0, 0)\n",
            "Traceback (most recent call last):\n",
            "  File \"/usr/lib/python3.6/socketserver.py\", line 320, in _handle_request_noblock\n",
            "    self.process_request(request, client_address)\n",
            "  File \"/usr/lib/python3.6/socketserver.py\", line 351, in process_request\n",
            "    self.finish_request(request, client_address)\n",
            "  File \"/usr/lib/python3.6/socketserver.py\", line 364, in finish_request\n",
            "    self.RequestHandlerClass(request, client_address, self)\n",
            "  File \"/usr/lib/python3.6/socketserver.py\", line 724, in __init__\n",
            "    self.handle()\n",
            "  File \"/usr/lib/python3.6/http/server.py\", line 418, in handle\n",
            "    self.handle_one_request()\n",
            "  File \"/usr/lib/python3.6/http/server.py\", line 406, in handle_one_request\n",
            "    method()\n",
            "  File \"/usr/lib/python3.6/http/server.py\", line 639, in do_GET\n",
            "    self.copyfile(f, self.wfile)\n",
            "  File \"/usr/lib/python3.6/http/server.py\", line 800, in copyfile\n",
            "    shutil.copyfileobj(source, outputfile)\n",
            "  File \"/usr/lib/python3.6/shutil.py\", line 82, in copyfileobj\n",
            "    fdst.write(buf)\n",
            "  File \"/usr/lib/python3.6/socketserver.py\", line 803, in write\n",
            "    self._sock.sendall(b)\n",
            "ConnectionResetError: [Errno 104] Connection reset by peer\n",
            "----------------------------------------\n"
          ],
          "name": "stderr"
        }
      ]
    },
    {
      "cell_type": "code",
      "metadata": {
        "id": "QmM5B0Vs5huR",
        "colab_type": "code",
        "colab": {}
      },
      "source": [
        "# !unzip ann.zip \n",
        "!mv content/ann ."
      ],
      "execution_count": 0,
      "outputs": []
    },
    {
      "cell_type": "code",
      "metadata": {
        "id": "ogpBeuFrRiX-",
        "colab_type": "code",
        "colab": {}
      },
      "source": [
        "EHF = tf.estimator.DNNRegressor(\n",
        "      feature_columns=construct_feature_columns(),\n",
        "      hidden_units=[50,20],\n",
        "      model_dir='ann'\n",
        "      )\n"
      ],
      "execution_count": 0,
      "outputs": []
    },
    {
      "cell_type": "markdown",
      "metadata": {
        "id": "CtvSt_FDIUts",
        "colab_type": "text"
      },
      "source": [
        ""
      ]
    },
    {
      "cell_type": "markdown",
      "metadata": {
        "id": "8j4u1BdTwCK1",
        "colab_type": "text"
      },
      "source": [
        ""
      ]
    },
    {
      "cell_type": "markdown",
      "metadata": {
        "id": "GVAmioM8h2W9",
        "colab_type": "text"
      },
      "source": [
        "### To Do List:\n",
        "\n",
        "- ;\n",
        "\n"
      ]
    }
  ]
}